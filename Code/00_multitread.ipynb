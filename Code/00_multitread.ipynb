{
 "cells": [
  {
   "cell_type": "markdown",
   "id": "8aafe06a",
   "metadata": {},
   "source": [
    "<center><img src=\"img/01.png\"></center>"
   ]
  },
  {
   "cell_type": "markdown",
   "id": "65e289a2",
   "metadata": {},
   "source": [
    "- Multitread คืออะไรพร้อมก็ทำงานไปก่อน"
   ]
  },
  {
   "cell_type": "markdown",
   "id": "7fa8cc00",
   "metadata": {},
   "source": [
    "<center><img src=\"img/02.png\"></center>"
   ]
  },
  {
   "cell_type": "markdown",
   "id": "10fa2c9e",
   "metadata": {},
   "source": [
    "- Multiprocessing คือ มีครัว 10 ครัว แต่ละครัวมีพ่อครัว 1 คน แต่ละครัวทำ 1 menu\n",
    "- Threading คือ มีครัว 1 ครัว มีพ่อครัว 10 คนและมี 10 menu ในนี้ (ครัวเดียวต้องแบ่งกันใช้) วิธีใช้ครัวให้คุ้มก็คือ ใครพร้อมแล้วทำก่อน ที่เหลือรอ\n",
    "- Async คือ 1 ครัว มีพ่อครัว 1 คนทำทุก menu"
   ]
  },
  {
   "cell_type": "markdown",
   "id": "b05a3f67",
   "metadata": {},
   "source": [
    "<center><img src=\"img/03.png\"></center>"
   ]
  },
  {
   "cell_type": "markdown",
   "id": "ed2d8f63",
   "metadata": {},
   "source": [
    "<video width=\"480\" controls autoplay loop>\n",
    "  <source src=\"img/04.mp4\" type=\"video/mp4\">\n",
    "</video>\n"
   ]
  },
  {
   "cell_type": "markdown",
   "id": "d252fb56",
   "metadata": {},
   "source": [
    "<center><img src=\"img/05.png\"></center>"
   ]
  },
  {
   "cell_type": "markdown",
   "id": "22c4127d",
   "metadata": {},
   "source": [
    "<hr>"
   ]
  },
  {
   "cell_type": "code",
   "execution_count": 1,
   "id": "9707cc2b",
   "metadata": {},
   "outputs": [],
   "source": [
    "import threading\n",
    "import time"
   ]
  },
  {
   "cell_type": "code",
   "execution_count": 6,
   "id": "488b65c9",
   "metadata": {},
   "outputs": [
    {
     "name": "stdout",
     "output_type": "stream",
     "text": [
      "Thread One: Starting task ...\n",
      "Thread Two: Starting task ...\n",
      "Thread Two: Task finised.\n",
      "Thread One: Task finised.\n",
      "All threads completed.\n"
     ]
    }
   ],
   "source": [
    "def task(name,waiting_time):\n",
    "    print(f\"Thread {name}: Starting task ...\")\n",
    "    time.sleep(waiting_time)\n",
    "    print(f\"Thread {name}: Task finised.\")\n",
    "\n",
    "# Create two threads\n",
    "thread1 = threading.Thread(target=task,args=(\"One\",5))\n",
    "thread2 = threading.Thread(target=task,args=(\"Two\",2))\n",
    "# Start the threads\n",
    "thread1.start()\n",
    "thread2.start()\n",
    "thread1.join()\n",
    "thread2.join()\n",
    "print(\"All threads completed.\")"
   ]
  }
 ],
 "metadata": {
  "kernelspec": {
   "display_name": "base",
   "language": "python",
   "name": "python3"
  },
  "language_info": {
   "codemirror_mode": {
    "name": "ipython",
    "version": 3
   },
   "file_extension": ".py",
   "mimetype": "text/x-python",
   "name": "python",
   "nbconvert_exporter": "python",
   "pygments_lexer": "ipython3",
   "version": "3.12.7"
  }
 },
 "nbformat": 4,
 "nbformat_minor": 5
}
