{
 "cells": [
  {
   "cell_type": "code",
   "execution_count": 3,
   "id": "40bc1c61",
   "metadata": {},
   "outputs": [],
   "source": [
    "# pip install ibapi"
   ]
  },
  {
   "cell_type": "code",
   "execution_count": 2,
   "id": "e1e75bf3",
   "metadata": {},
   "outputs": [],
   "source": [
    "from ibapi.client import EClient"
   ]
  }
 ],
 "metadata": {
  "kernelspec": {
   "display_name": "base",
   "language": "python",
   "name": "python3"
  },
  "language_info": {
   "codemirror_mode": {
    "name": "ipython",
    "version": 3
   },
   "file_extension": ".py",
   "mimetype": "text/x-python",
   "name": "python",
   "nbconvert_exporter": "python",
   "pygments_lexer": "ipython3",
   "version": "3.12.7"
  }
 },
 "nbformat": 4,
 "nbformat_minor": 5
}
