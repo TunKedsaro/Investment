{
 "cells": [
  {
   "cell_type": "code",
   "execution_count": 1,
   "id": "e32cbc80",
   "metadata": {},
   "outputs": [],
   "source": [
    "from ibapi.client import EClient\n",
    "from ibapi.wrapper import EWrapper\n",
    "import threading\n",
    "import time"
   ]
  },
  {
   "cell_type": "code",
   "execution_count": 3,
   "id": "b9b9a87a",
   "metadata": {},
   "outputs": [],
   "source": [
    "class TradingApp(EWrapper, EClient):\n",
    "    def __init__(self):\n",
    "        EClient.__init__(self,self)\n",
    "    def pnl(self, reqId, dailyPnL, unrealizedPnL, realizedPnL):\n",
    "        super().pnl(reqId, dailyPnL, unrealizedPnL, realizedPnL)\n",
    "        dictionary = {\n",
    "            \"ReqId\":reqId,\n",
    "            \"DailyPnL\":dailyPnL,\n",
    "            \"UnrealizedPnL\":unrealizedPnL,\n",
    "            \"RealizedPnL\":realizedPnL\n",
    "        }\n",
    "        print(dictionary)\n",
    "def websocket_con():\n",
    "    app.run()"
   ]
  },
  {
   "cell_type": "code",
   "execution_count": 4,
   "id": "102e2b7f",
   "metadata": {},
   "outputs": [
    {
     "name": "stderr",
     "output_type": "stream",
     "text": [
      "ERROR -1 2104 Market data farm connection is OK:usfarm.nj\n",
      "ERROR -1 2104 Market data farm connection is OK:usfuture\n",
      "ERROR -1 2104 Market data farm connection is OK:cashfarm\n",
      "ERROR -1 2104 Market data farm connection is OK:usfarm\n",
      "ERROR -1 2106 HMDS data farm connection is OK:euhmds\n",
      "ERROR -1 2106 HMDS data farm connection is OK:fundfarm\n",
      "ERROR -1 2106 HMDS data farm connection is OK:ushmds\n",
      "ERROR -1 2158 Sec-def data farm connection is OK:secdefil\n"
     ]
    },
    {
     "name": "stdout",
     "output_type": "stream",
     "text": [
      "{'ReqId': 5, 'DailyPnL': 0.007050000000000001, 'UnrealizedPnL': 0.012499999679999929, 'RealizedPnL': 0.0}\n"
     ]
    }
   ],
   "source": [
    "app = TradingApp()\n",
    "app.connect(\"127.0.0.1\", 7497, clientId=1)\n",
    "\n",
    "con_thread = threading.Thread(target = websocket_con, daemon = True)\n",
    "con_thread.start()\n",
    "time.sleep(1)\n",
    "\n",
    "app.reqPnL(5, \"U21833425\", \"\")"
   ]
  },
  {
   "cell_type": "code",
   "execution_count": 5,
   "id": "23133dec",
   "metadata": {},
   "outputs": [],
   "source": [
    "app.disconnect()"
   ]
  }
 ],
 "metadata": {
  "kernelspec": {
   "display_name": "Python 3",
   "language": "python",
   "name": "python3"
  },
  "language_info": {
   "codemirror_mode": {
    "name": "ipython",
    "version": 3
   },
   "file_extension": ".py",
   "mimetype": "text/x-python",
   "name": "python",
   "nbconvert_exporter": "python",
   "pygments_lexer": "ipython3",
   "version": "3.9.7"
  }
 },
 "nbformat": 4,
 "nbformat_minor": 5
}
