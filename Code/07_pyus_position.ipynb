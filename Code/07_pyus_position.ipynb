{
 "cells": [
  {
   "cell_type": "code",
   "execution_count": null,
   "id": "6a9b6a91",
   "metadata": {},
   "outputs": [],
   "source": [
    " "
   ]
  },
  {
   "cell_type": "code",
   "execution_count": 1,
   "id": "3e62f634",
   "metadata": {},
   "outputs": [],
   "source": [
    "from ibapi.client import EClient\n",
    "from ibapi.wrapper import EWrapper\n",
    "from ibapi.contract import Contract\n",
    "from ibapi.order import Order\n",
    "import threading\n",
    "import time\n",
    "import pandas as pd"
   ]
  },
  {
   "cell_type": "code",
   "execution_count": 2,
   "id": "8453c604",
   "metadata": {},
   "outputs": [],
   "source": [
    "class TradingApp(EWrapper, EClient):\n",
    "    def __init__(self):\n",
    "        EClient.__init__(self,self)\n",
    "        self.pos_df = pd.DataFrame(\n",
    "            columns = ['Account','Symbol','SecType','Currency','Position','Avg cost']\n",
    "        )\n",
    "    def nextValidId(self, orderId):\n",
    "        super().nextValidId(orderId)\n",
    "        self.nextValidOrderId = orderId\n",
    "        print(f\"NextValidId: {orderId}\")\n",
    "    def position(self,account, contract, position, avgCost):\n",
    "        super().position(account, contract, position, avgCost)\n",
    "        dictionary = {\n",
    "            \"Account\":account,\n",
    "            \"Symbol\":contract.symbol,\n",
    "            \"SecType\":contract.secType,\n",
    "            \"Currency\":contract.currency,\n",
    "            \"Position\":position,\n",
    "            \"Avg cost\":avgCost\n",
    "        }\n",
    "        if self.pos_df[\"Symbol\"].str.contains(contract.symbol).any():\n",
    "            self.pos_df.loc[self.pos_df[\"Symbol\"] == contract.symbol,\"Position\"] = position\n",
    "            self.pos_df.loc[self.pos_df[\"Symbol\"] == contract.symbol,\"Avg cost\"] = avgCost\n",
    "        else:\n",
    "            self.pos_df = pd.concat((self.pos_df, pd.DataFrame([dictionary])),ignore_index=True)\n",
    "\n",
    "def websocket_con():\n",
    "    app.run()"
   ]
  },
  {
   "cell_type": "code",
   "execution_count": 4,
   "id": "6f39e621",
   "metadata": {},
   "outputs": [],
   "source": [
    "app = TradingApp()\n",
    "app.connect(\"127.0.0.1\", 7497, clientId = 12)"
   ]
  },
  {
   "cell_type": "code",
   "execution_count": null,
   "id": "075a0fa1",
   "metadata": {},
   "outputs": [
    {
     "name": "stderr",
     "output_type": "stream",
     "text": [
      "ERROR -1 2104 Market data farm connection is OK:usfarm.nj\n",
      "ERROR -1 2104 Market data farm connection is OK:usfuture\n",
      "ERROR -1 2104 Market data farm connection is OK:cashfarm\n",
      "ERROR -1 2104 Market data farm connection is OK:usfarm\n",
      "ERROR -1 2106 HMDS data farm connection is OK:euhmds\n",
      "ERROR -1 2106 HMDS data farm connection is OK:fundfarm\n",
      "ERROR -1 2106 HMDS data farm connection is OK:ushmds\n",
      "ERROR -1 2158 Sec-def data farm connection is OK:secdefil\n"
     ]
    },
    {
     "name": "stdout",
     "output_type": "stream",
     "text": [
      "NextValidId: 1\n"
     ]
    },
    {
     "name": "stderr",
     "output_type": "stream",
     "text": [
      "C:\\Users\\TunKedsaro\\AppData\\Local\\Temp\\ipykernel_15060\\1410910564.py:25: FutureWarning: The behavior of DataFrame concatenation with empty or all-NA entries is deprecated. In a future version, this will no longer exclude empty or all-NA columns when determining the result dtypes. To retain the old behavior, exclude the relevant entries before the concat operation.\n",
      "  self.pos_df = pd.concat((self.pos_df, pd.DataFrame([dictionary])),ignore_index=True)\n",
      "ERROR 1 10311 This order will be directly routed to NASDAQ. Direct routed orders may result in higher trade fees. Restriction is specified in Precautionary Settings of Global Configuration/API.\n"
     ]
    }
   ],
   "source": [
    "con_thread = threading.Thread(target = websocket_con, daemon =True)\n",
    "con_thread.start()\n",
    "time.sleep(1)"
   ]
  },
  {
   "cell_type": "code",
   "execution_count": 6,
   "id": "93549e25",
   "metadata": {},
   "outputs": [],
   "source": [
    "def usStk(symbol, sectype = \"STK\", currecy = \"USD\", exchange = \"NASDAQ\"):\n",
    "    contract = Contract()\n",
    "    contract.symbol = symbol\n",
    "    contract.secType = sectype\n",
    "    contract.currency = currecy\n",
    "    contract.exchange = exchange\n",
    "    return contract\n",
    "def mktOrder(direction,quantity):\n",
    "    order = Order()\n",
    "    order.action = direction\n",
    "    order.orderType = \"MKT\"\n",
    "    order.totalQuantity = quantity\n",
    "    order.eTradeOnly = \"\"\n",
    "    order.firmQuoteOnly = \"\"\n",
    "    return order"
   ]
  },
  {
   "cell_type": "code",
   "execution_count": 7,
   "id": "749422ca",
   "metadata": {},
   "outputs": [],
   "source": [
    "app.reqPositions()\n",
    "time.sleep(1)\n",
    "pos_df = app.pos_df"
   ]
  },
  {
   "cell_type": "code",
   "execution_count": 8,
   "id": "eafb2be9",
   "metadata": {},
   "outputs": [],
   "source": [
    "app.placeOrder(app.nextValidOrderId,usStk(\"QCOM\"),mktOrder(\"BUY\",4))"
   ]
  },
  {
   "cell_type": "code",
   "execution_count": 9,
   "id": "dbb1b124",
   "metadata": {},
   "outputs": [],
   "source": [
    "app.reqPositions()\n",
    "time.sleep(1)\n",
    "pos_df = app.pos_df"
   ]
  },
  {
   "cell_type": "code",
   "execution_count": 10,
   "id": "ac9681b2",
   "metadata": {},
   "outputs": [
    {
     "data": {
      "text/html": [
       "<div>\n",
       "<style scoped>\n",
       "    .dataframe tbody tr th:only-of-type {\n",
       "        vertical-align: middle;\n",
       "    }\n",
       "\n",
       "    .dataframe tbody tr th {\n",
       "        vertical-align: top;\n",
       "    }\n",
       "\n",
       "    .dataframe thead th {\n",
       "        text-align: right;\n",
       "    }\n",
       "</style>\n",
       "<table border=\"1\" class=\"dataframe\">\n",
       "  <thead>\n",
       "    <tr style=\"text-align: right;\">\n",
       "      <th></th>\n",
       "      <th>Account</th>\n",
       "      <th>Symbol</th>\n",
       "      <th>SecType</th>\n",
       "      <th>Currency</th>\n",
       "      <th>Position</th>\n",
       "      <th>Avg cost</th>\n",
       "    </tr>\n",
       "  </thead>\n",
       "  <tbody>\n",
       "    <tr>\n",
       "      <th>0</th>\n",
       "      <td>U21833425</td>\n",
       "      <td>IBKR</td>\n",
       "      <td>STK</td>\n",
       "      <td>USD</td>\n",
       "      <td>0.0282</td>\n",
       "      <td>62.056738</td>\n",
       "    </tr>\n",
       "  </tbody>\n",
       "</table>\n",
       "</div>"
      ],
      "text/plain": [
       "     Account Symbol SecType Currency  Position   Avg cost\n",
       "0  U21833425   IBKR     STK      USD    0.0282  62.056738"
      ]
     },
     "execution_count": 10,
     "metadata": {},
     "output_type": "execute_result"
    }
   ],
   "source": [
    "pos_df"
   ]
  },
  {
   "cell_type": "code",
   "execution_count": 11,
   "id": "aaa00793",
   "metadata": {},
   "outputs": [],
   "source": [
    "app.disconnect()"
   ]
  }
 ],
 "metadata": {
  "kernelspec": {
   "display_name": "Python 3",
   "language": "python",
   "name": "python3"
  },
  "language_info": {
   "codemirror_mode": {
    "name": "ipython",
    "version": 3
   },
   "file_extension": ".py",
   "mimetype": "text/x-python",
   "name": "python",
   "nbconvert_exporter": "python",
   "pygments_lexer": "ipython3",
   "version": "3.9.7"
  }
 },
 "nbformat": 4,
 "nbformat_minor": 5
}
