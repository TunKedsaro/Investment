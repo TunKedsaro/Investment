{
 "cells": [
  {
   "cell_type": "code",
   "execution_count": 1,
   "id": "df3ac920",
   "metadata": {},
   "outputs": [],
   "source": [
    "from ibapi.client import EClient\n",
    "from ibapi.wrapper import EWrapper\n",
    "from ibapi.contract import Contract\n",
    "from ibapi.order import Order\n",
    "import threading\n",
    "import time"
   ]
  },
  {
   "cell_type": "code",
   "execution_count": 2,
   "id": "21a5c31c",
   "metadata": {},
   "outputs": [],
   "source": [
    "class TradeApp(EWrapper, EClient):\n",
    "    def __init__(self):\n",
    "        EClient.__init__(self,self)\n",
    "    def nextValidId(self,orderId):\n",
    "        super().nextValidId(orderId)\n",
    "        self.nextValidOrderId = orderId \n",
    "        print(f\"NextValidId: {orderId}\")\n",
    "def websocket_con():\n",
    "    app.run()"
   ]
  },
  {
   "cell_type": "code",
   "execution_count": 3,
   "id": "5b5f5ae1",
   "metadata": {},
   "outputs": [],
   "source": [
    "def usStk(symbol, sectype=\"STK\", currency = \"USD\", exchange = \"ISLAND\"):\n",
    "    contract = Contract()\n",
    "    contract.symbol = symbol\n",
    "    contract.secType = sectype\n",
    "    contract.currency = currency\n",
    "    contract.exchange = exchange\n",
    "    return contract\n",
    "def mktOrder(direction,quantity):\n",
    "    order = Order()\n",
    "    order.action = direction\n",
    "    order.orderType = \"MKT\"\n",
    "    order.totalQuantity = quantity\n",
    "    return order\n",
    "def lmtOrder(direction,quantity, lmt_price):\n",
    "    order = Order()\n",
    "    order.action = direction\n",
    "    order.orderType = \"LMT\"\n",
    "    order.totalQuantity = quantity\n",
    "    order.lmtPrice = lmt_price\n",
    "    return order"
   ]
  },
  {
   "cell_type": "code",
   "execution_count": 4,
   "id": "85574548",
   "metadata": {},
   "outputs": [
    {
     "name": "stderr",
     "output_type": "stream",
     "text": [
      "ERROR -1 2104 Market data farm connection is OK:usfarm.nj\n",
      "ERROR -1 2104 Market data farm connection is OK:usfuture\n",
      "ERROR -1 2104 Market data farm connection is OK:cashfarm\n",
      "ERROR -1 2104 Market data farm connection is OK:usfarm\n",
      "ERROR -1 2106 HMDS data farm connection is OK:euhmds\n",
      "ERROR -1 2106 HMDS data farm connection is OK:fundfarm\n",
      "ERROR -1 2106 HMDS data farm connection is OK:ushmds\n",
      "ERROR -1 2158 Sec-def data farm connection is OK:secdefil\n"
     ]
    },
    {
     "name": "stdout",
     "output_type": "stream",
     "text": [
      "NextValidId: 1\n"
     ]
    },
    {
     "name": "stderr",
     "output_type": "stream",
     "text": [
      "ERROR 1 10268 The 'EtradeOnly' order attribute is not supported.\n"
     ]
    },
    {
     "name": "stdout",
     "output_type": "stream",
     "text": [
      "NextValidId: 1\n"
     ]
    },
    {
     "name": "stderr",
     "output_type": "stream",
     "text": [
      "ERROR 1 10268 The 'EtradeOnly' order attribute is not supported.\n"
     ]
    },
    {
     "name": "stdout",
     "output_type": "stream",
     "text": [
      "NextValidId: 1\n"
     ]
    }
   ],
   "source": [
    "app = TradeApp()\n",
    "app.connect(\"127.0.0.1\",7497, clientId = 20)\n",
    "\n",
    "con_thread = threading.Thread(\n",
    "    target = websocket_con,\n",
    "    daemon = True\n",
    ")\n",
    "con_thread.start()\n",
    "time.sleep(1)"
   ]
  },
  {
   "cell_type": "code",
   "execution_count": 5,
   "id": "462a6914",
   "metadata": {},
   "outputs": [],
   "source": [
    "app.placeOrder(app.nextValidOrderId, usStk(\"META\"),lmtOrder(\"BUY\",5,720))\n",
    "app.reqIds(3)\n",
    "time.sleep(2)"
   ]
  },
  {
   "cell_type": "code",
   "execution_count": 6,
   "id": "9450bfa8",
   "metadata": {},
   "outputs": [],
   "source": [
    "app.placeOrder(app.nextValidOrderId,usStk(\"MSFT\"),lmtOrder(\"BUY\",10,450))\n",
    "app.reqIds(3)\n",
    "time.sleep(2)"
   ]
  },
  {
   "cell_type": "code",
   "execution_count": 7,
   "id": "6f8380bf",
   "metadata": {},
   "outputs": [],
   "source": [
    "app.disconnect()"
   ]
  }
 ],
 "metadata": {
  "kernelspec": {
   "display_name": "Python 3",
   "language": "python",
   "name": "python3"
  },
  "language_info": {
   "codemirror_mode": {
    "name": "ipython",
    "version": 3
   },
   "file_extension": ".py",
   "mimetype": "text/x-python",
   "name": "python",
   "nbconvert_exporter": "python",
   "pygments_lexer": "ipython3",
   "version": "3.9.7"
  }
 },
 "nbformat": 4,
 "nbformat_minor": 5
}
