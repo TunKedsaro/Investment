{
 "cells": [
  {
   "cell_type": "code",
   "execution_count": 1,
   "id": "13c01a00",
   "metadata": {},
   "outputs": [],
   "source": [
    "from ibapi.client import EClient\n",
    "from ibapi.wrapper import EWrapper\n",
    "from ibapi.scanner import ScannerSubscription, ScanData\n",
    "import time\n",
    "import threading\n",
    "import os"
   ]
  },
  {
   "cell_type": "code",
   "execution_count": 2,
   "id": "96d8dac6",
   "metadata": {},
   "outputs": [],
   "source": [
    "class TradeApp(EWrapper, EClient):\n",
    "    def __init__(self):\n",
    "        EClient.__init__(self,self)\n",
    "    def scannerData(self, reqId, rank, contractDetails, distance, benchmark, projection, legsStr):\n",
    "        super().scannerData(reqId, rank, contractDetails, distance, benchmark, projection, legsStr)\n",
    "        print(\"ScannerData. ReqId:\", reqId, ScanData(contractDetails.contract, rank, distance, benchmark, projection, legsStr))\n",
    "\n",
    "def usStkScan(asset_type=\"STK\",asset_loc=\"STK.NASDAQ\",scan_code=\"HIGH_OPEN_GAP\"):\n",
    "    scan_obj = ScannerSubscription()\n",
    "    scan_obj.numberOfRows = 10\n",
    "    scan_obj.instrument = asset_type\n",
    "    scan_obj.locationCode = asset_loc\n",
    "    scan_obj.scanCode = scan_code\n",
    "    return scan_obj\n",
    "\n",
    "def websocket_con():\n",
    "    app.run()\n"
   ]
  },
  {
   "cell_type": "code",
   "execution_count": 3,
   "id": "c2cc2614",
   "metadata": {},
   "outputs": [
    {
     "name": "stderr",
     "output_type": "stream",
     "text": [
      "ERROR -1 2104 Market data farm connection is OK:usfarm.nj\n",
      "ERROR -1 2104 Market data farm connection is OK:usfuture\n",
      "ERROR -1 2104 Market data farm connection is OK:usopt.nj\n",
      "ERROR -1 2104 Market data farm connection is OK:cashfarm\n",
      "ERROR -1 2104 Market data farm connection is OK:usfarm\n",
      "ERROR -1 2106 HMDS data farm connection is OK:euhmds\n",
      "ERROR -1 2106 HMDS data farm connection is OK:fundfarm\n",
      "ERROR -1 2106 HMDS data farm connection is OK:ushmds\n",
      "ERROR -1 2158 Sec-def data farm connection is OK:secdefil\n"
     ]
    },
    {
     "name": "stdout",
     "output_type": "stream",
     "text": [
      "ScannerData. ReqId: 20 Rank: 0, Symbol: APVO, SecType: STK, Currency: USD, Distance: , Benchmark: , Projection: , Legs String: \n",
      "ScannerData. ReqId: 20 Rank: 1, Symbol: GDC, SecType: STK, Currency: USD, Distance: , Benchmark: , Projection: , Legs String: \n",
      "ScannerData. ReqId: 20 Rank: 2, Symbol: MSPR, SecType: STK, Currency: USD, Distance: , Benchmark: , Projection: , Legs String: \n",
      "ScannerData. ReqId: 20 Rank: 3, Symbol: FAAS, SecType: STK, Currency: USD, Distance: , Benchmark: , Projection: , Legs String: \n",
      "ScannerData. ReqId: 20 Rank: 4, Symbol: ASST, SecType: STK, Currency: USD, Distance: , Benchmark: , Projection: , Legs String: \n",
      "ScannerData. ReqId: 20 Rank: 5, Symbol: LPSN, SecType: STK, Currency: USD, Distance: , Benchmark: , Projection: , Legs String: \n",
      "ScannerData. ReqId: 20 Rank: 6, Symbol: OPI, SecType: STK, Currency: USD, Distance: , Benchmark: , Projection: , Legs String: \n",
      "ScannerData. ReqId: 20 Rank: 7, Symbol: VIVS, SecType: STK, Currency: USD, Distance: , Benchmark: , Projection: , Legs String: \n",
      "ScannerData. ReqId: 20 Rank: 8, Symbol: RCT, SecType: STK, Currency: USD, Distance: , Benchmark: , Projection: , Legs String: \n",
      "ScannerData. ReqId: 20 Rank: 9, Symbol: SNTG, SecType: STK, Currency: USD, Distance: , Benchmark: , Projection: , Legs String: \n"
     ]
    },
    {
     "name": "stderr",
     "output_type": "stream",
     "text": [
      "ERROR 20 162 Historical Market Data Service error message:API scanner subscription cancelled: 20\n"
     ]
    }
   ],
   "source": [
    "app = TradeApp()\n",
    "app.connect(host='127.0.0.1', port=7497, clientId=23) #port 4002 for ib gateway paper trading/7497 for TWS paper trading\n",
    "\n",
    "con_thread = threading.Thread(target=websocket_con, daemon=True)\n",
    "con_thread.start()\n",
    "time.sleep(1) # some latency added to ensure that the connection is established\n",
    "\n",
    "app.reqScannerSubscription(20,usStkScan(),[],[])\n",
    "time.sleep(30)\n",
    "\n",
    "app.cancelScannerSubscription(20)"
   ]
  },
  {
   "cell_type": "code",
   "execution_count": 4,
   "id": "56fdb5d7",
   "metadata": {},
   "outputs": [],
   "source": [
    "app.disconnect()"
   ]
  }
 ],
 "metadata": {
  "kernelspec": {
   "display_name": "Python 3",
   "language": "python",
   "name": "python3"
  },
  "language_info": {
   "codemirror_mode": {
    "name": "ipython",
    "version": 3
   },
   "file_extension": ".py",
   "mimetype": "text/x-python",
   "name": "python",
   "nbconvert_exporter": "python",
   "pygments_lexer": "ipython3",
   "version": "3.9.7"
  }
 },
 "nbformat": 4,
 "nbformat_minor": 5
}
