{
 "cells": [
  {
   "cell_type": "code",
   "execution_count": 1,
   "id": "78e804c9",
   "metadata": {},
   "outputs": [],
   "source": [
    "from ibapi.client import EClient\n",
    "from ibapi.wrapper import EWrapper\n",
    "import time\n",
    "import threading\n",
    "import os"
   ]
  },
  {
   "cell_type": "code",
   "execution_count": 2,
   "id": "64d81b91",
   "metadata": {},
   "outputs": [],
   "source": [
    "class TradeApp(EWrapper, EClient):\n",
    "    def __init__(self):\n",
    "        EClient.__init__(self,self)\n",
    "    def scannerParameters(self,xml):\n",
    "        super().scannerParameters(xml)\n",
    "        open('scanner_params.xml','w').write(xml)\n",
    "        print(\"ScannerParameters received.\")\n",
    "def websocket_con():\n",
    "    app.run()"
   ]
  },
  {
   "cell_type": "code",
   "execution_count": 3,
   "id": "8191d86e",
   "metadata": {},
   "outputs": [],
   "source": [
    "app = TradeApp()\n",
    "app.connect(host='127.0.0.1',port=7497,clientId=2)"
   ]
  },
  {
   "cell_type": "code",
   "execution_count": 4,
   "id": "49d5f39c",
   "metadata": {},
   "outputs": [
    {
     "name": "stderr",
     "output_type": "stream",
     "text": [
      "ERROR -1 2104 Market data farm connection is OK:usfarm.nj\n",
      "ERROR -1 2104 Market data farm connection is OK:usfuture\n",
      "ERROR -1 2104 Market data farm connection is OK:usopt.nj\n",
      "ERROR -1 2104 Market data farm connection is OK:cashfarm\n",
      "ERROR -1 2104 Market data farm connection is OK:usfarm\n",
      "ERROR -1 2106 HMDS data farm connection is OK:euhmds\n",
      "ERROR -1 2106 HMDS data farm connection is OK:fundfarm\n",
      "ERROR -1 2106 HMDS data farm connection is OK:ushmds\n",
      "ERROR -1 2158 Sec-def data farm connection is OK:secdefil\n"
     ]
    },
    {
     "name": "stdout",
     "output_type": "stream",
     "text": [
      "ScannerParameters received.\n"
     ]
    }
   ],
   "source": [
    "con_thread = threading.Thread(target=websocket_con,daemon=True)\n",
    "con_thread.start()\n",
    "time.sleep(1)"
   ]
  },
  {
   "cell_type": "code",
   "execution_count": 5,
   "id": "4a1e3024",
   "metadata": {},
   "outputs": [],
   "source": [
    "app.reqScannerParameters()"
   ]
  }
 ],
 "metadata": {
  "kernelspec": {
   "display_name": "Python 3",
   "language": "python",
   "name": "python3"
  },
  "language_info": {
   "codemirror_mode": {
    "name": "ipython",
    "version": 3
   },
   "file_extension": ".py",
   "mimetype": "text/x-python",
   "name": "python",
   "nbconvert_exporter": "python",
   "pygments_lexer": "ipython3",
   "version": "3.9.7"
  }
 },
 "nbformat": 4,
 "nbformat_minor": 5
}
