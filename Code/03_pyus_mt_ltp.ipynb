{
 "cells": [
  {
   "cell_type": "code",
   "execution_count": null,
   "id": "f839fcc1",
   "metadata": {},
   "outputs": [],
   "source": [
    "# 3:43:57\n",
    "# ดึง price จากหลายๆ  หุ้น"
   ]
  },
  {
   "cell_type": "code",
   "execution_count": null,
   "id": "8c71f656",
   "metadata": {},
   "outputs": [],
   "source": [
    "from ibapi.client import EClient\n",
    "from ibapi.wrapper import EWrapper\n",
    "from ibapi.contract import Contract\n",
    "import threading\n",
    "import time"
   ]
  },
  {
   "cell_type": "code",
   "execution_count": null,
   "id": "6213cc40",
   "metadata": {},
   "outputs": [],
   "source": [
    "tickers = [\"AMZN\",\"META\",\"INTC\"]            # lish ของ string"
   ]
  },
  {
   "cell_type": "code",
   "execution_count": 3,
   "id": "040c318f",
   "metadata": {},
   "outputs": [],
   "source": [
    "class TradeApp(EWrapper, EClient):\n",
    "    def __init__(self):\n",
    "        EClient.__init__(self, self)\n",
    "        self.lastPrice = {}\n",
    "        \n",
    "    def tickPrice(self, reqId, tickType, price, attrib):\n",
    "        super().tickPrice(reqId, tickType, price, attrib)\n",
    "        #print(\"TickPrice. TickerId:\", reqId, \"tickType:\", tickType, \"Price:\", price)\n",
    "        if tickType==4:\n",
    "            self.lastPrice[reqId] = price"
   ]
  },
  {
   "cell_type": "code",
   "execution_count": null,
   "id": "d34754cd",
   "metadata": {},
   "outputs": [],
   "source": [
    "def usTechStk(symbol,sec_type=\"STK\",currency=\"USD\",exchange=\"ISLAND\"):\n",
    "    contract = Contract()\n",
    "    contract.symbol = symbol\n",
    "    contract.secType = sec_type\n",
    "    contract.currency = currency\n",
    "    contract.exchange = exchange\n",
    "    return contract \n",
    "\n",
    "def streamSnapshotData(tickers):                         # loop ข้อมูลหุ้นโดย For loop\n",
    "    \"\"\"stream tick leve data\"\"\"\n",
    "    for ticker in tickers:\n",
    "        app.reqMktData(reqId=tickers.index(ticker), \n",
    "                       contract=usTechStk(ticker),\n",
    "                       genericTickList=\"\",\n",
    "                       snapshot=False,\n",
    "                       regulatorySnapshot=False,\n",
    "                       mktDataOptions=[])\n",
    "        time.sleep(1)\n",
    "    \n",
    "def last_price(ticker):\n",
    "    return app.lastPrice[tickers.index(ticker)]\n",
    "    \n",
    "def connection():\n",
    "    app.run()"
   ]
  },
  {
   "cell_type": "code",
   "execution_count": 5,
   "id": "c47c95fc",
   "metadata": {},
   "outputs": [
    {
     "name": "stderr",
     "output_type": "stream",
     "text": [
      "ERROR -1 2104 Market data farm connection is OK:usfarm.nj\n",
      "ERROR -1 2104 Market data farm connection is OK:hfarm\n",
      "ERROR -1 2104 Market data farm connection is OK:jfarm\n",
      "ERROR -1 2104 Market data farm connection is OK:usfuture\n",
      "ERROR -1 2104 Market data farm connection is OK:cashfarm\n",
      "ERROR -1 2104 Market data farm connection is OK:eufarmnj\n",
      "ERROR -1 2104 Market data farm connection is OK:usfarm\n",
      "ERROR -1 2106 HMDS data farm connection is OK:euhmds\n",
      "ERROR -1 2106 HMDS data farm connection is OK:fundfarm\n",
      "ERROR -1 2106 HMDS data farm connection is OK:ushmds\n",
      "ERROR -1 2158 Sec-def data farm connection is OK:secdefil\n"
     ]
    },
    {
     "name": "stderr",
     "output_type": "stream",
     "text": [
      "ERROR -1 2108 Market data farm connection is inactive but should be available upon demand.hfarm\n",
      "ERROR -1 2108 Market data farm connection is inactive but should be available upon demand.hfarm\n",
      "ERROR -1 2108 Market data farm connection is inactive but should be available upon demand.jfarm\n",
      "ERROR -1 2108 Market data farm connection is inactive but should be available upon demand.jfarm\n",
      "ERROR -1 2108 Market data farm connection is inactive but should be available upon demand.eufarmnj\n",
      "ERROR -1 2108 Market data farm connection is inactive but should be available upon demand.eufarmnj\n"
     ]
    },
    {
     "name": "stdout",
     "output_type": "stream",
     "text": [
      "Last Price of AMZN: 229.81\n"
     ]
    }
   ],
   "source": [
    "app = TradeApp()\n",
    "app.connect(host='127.0.0.1', port=7497, clientId=23) #port 4002 for ib gateway paper trading/7497 for TWS paper trading\n",
    "\n",
    "ConThread = threading.Thread(target=connection)\n",
    "ConThread.start()\n",
    "\n",
    "streamThread = threading.Thread(target=streamSnapshotData, args=(tickers,))\n",
    "streamThread.start()\n",
    "time.sleep(3) #some lag added to ensure that streaming has started\n",
    "\n",
    "\n",
    "print(\"Last Price of AMZN:\", last_price(\"AMZN\"))"
   ]
  },
  {
   "cell_type": "code",
   "execution_count": null,
   "id": "bf56c2ff",
   "metadata": {},
   "outputs": [
    {
     "ename": "",
     "evalue": "",
     "output_type": "error",
     "traceback": [
      "\u001b[1;31mThe Kernel crashed while executing code in the current cell or a previous cell. \n",
      "\u001b[1;31mPlease review the code in the cell(s) to identify a possible cause of the failure. \n",
      "\u001b[1;31mClick <a href='https://aka.ms/vscodeJupyterKernelCrash'>here</a> for more info. \n",
      "\u001b[1;31mView Jupyter <a href='command:jupyter.viewOutput'>log</a> for further details."
     ]
    }
   ],
   "source": [
    "app.disconnect()"
   ]
  }
 ],
 "metadata": {
  "kernelspec": {
   "display_name": "Python 3",
   "language": "python",
   "name": "python3"
  },
  "language_info": {
   "codemirror_mode": {
    "name": "ipython",
    "version": 3
   },
   "file_extension": ".py",
   "mimetype": "text/x-python",
   "name": "python",
   "nbconvert_exporter": "python",
   "pygments_lexer": "ipython3",
   "version": "3.9.7"
  }
 },
 "nbformat": 4,
 "nbformat_minor": 5
}
